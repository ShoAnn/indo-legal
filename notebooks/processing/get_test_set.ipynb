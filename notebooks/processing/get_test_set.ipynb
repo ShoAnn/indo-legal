{
  "metadata": {
    "kernelspec": {
      "name": "python3",
      "display_name": "Python 3",
      "language": "python"
    },
    "language_info": {
      "name": "python",
      "version": "3.10.12",
      "mimetype": "text/x-python",
      "codemirror_mode": {
        "name": "ipython",
        "version": 3
      },
      "pygments_lexer": "ipython3",
      "nbconvert_exporter": "python",
      "file_extension": ".py"
    },
    "colab": {
      "provenance": [],
      "gpuType": "T4"
    },
    "accelerator": "GPU",
    "kaggle": {
      "accelerator": "nvidiaTeslaT4",
      "dataSources": [
        {
          "sourceId": 10583603,
          "sourceType": "datasetVersion",
          "datasetId": 6549588
        }
      ],
      "dockerImageVersionId": 30840,
      "isInternetEnabled": true,
      "language": "python",
      "sourceType": "notebook",
      "isGpuEnabled": true
    },
    "widgets": {
      "application/vnd.jupyter.widget-state+json": {
        "27b0e331448b4cb7aa0c139efbf7c504": {
          "model_module": "@jupyter-widgets/controls",
          "model_name": "HBoxModel",
          "model_module_version": "1.5.0",
          "state": {
            "_dom_classes": [],
            "_model_module": "@jupyter-widgets/controls",
            "_model_module_version": "1.5.0",
            "_model_name": "HBoxModel",
            "_view_count": null,
            "_view_module": "@jupyter-widgets/controls",
            "_view_module_version": "1.5.0",
            "_view_name": "HBoxView",
            "box_style": "",
            "children": [
              "IPY_MODEL_7c75dab9fd0a473ead6d08ec1d6bd441",
              "IPY_MODEL_4e5b4717314f4c3bb5ed4bb98d9304ba",
              "IPY_MODEL_f86aa9375b494a60ad36a616c03d3974"
            ],
            "layout": "IPY_MODEL_a31467f8e77440daac0059734b559bfd"
          }
        },
        "7c75dab9fd0a473ead6d08ec1d6bd441": {
          "model_module": "@jupyter-widgets/controls",
          "model_name": "HTMLModel",
          "model_module_version": "1.5.0",
          "state": {
            "_dom_classes": [],
            "_model_module": "@jupyter-widgets/controls",
            "_model_module_version": "1.5.0",
            "_model_name": "HTMLModel",
            "_view_count": null,
            "_view_module": "@jupyter-widgets/controls",
            "_view_module_version": "1.5.0",
            "_view_name": "HTMLView",
            "description": "",
            "description_tooltip": null,
            "layout": "IPY_MODEL_968660b3ed4041aa8c3f02eeaca613eb",
            "placeholder": "​",
            "style": "IPY_MODEL_28bb6aca927a48cf81cc7c9e1fe94361",
            "value": "Loading checkpoint shards: 100%"
          }
        },
        "4e5b4717314f4c3bb5ed4bb98d9304ba": {
          "model_module": "@jupyter-widgets/controls",
          "model_name": "FloatProgressModel",
          "model_module_version": "1.5.0",
          "state": {
            "_dom_classes": [],
            "_model_module": "@jupyter-widgets/controls",
            "_model_module_version": "1.5.0",
            "_model_name": "FloatProgressModel",
            "_view_count": null,
            "_view_module": "@jupyter-widgets/controls",
            "_view_module_version": "1.5.0",
            "_view_name": "ProgressView",
            "bar_style": "success",
            "description": "",
            "description_tooltip": null,
            "layout": "IPY_MODEL_dd1aadd4ba5243e8be3ab44589aeed30",
            "max": 4,
            "min": 0,
            "orientation": "horizontal",
            "style": "IPY_MODEL_ad7ce32dd4284d5d8adef47e41f710d7",
            "value": 4
          }
        },
        "f86aa9375b494a60ad36a616c03d3974": {
          "model_module": "@jupyter-widgets/controls",
          "model_name": "HTMLModel",
          "model_module_version": "1.5.0",
          "state": {
            "_dom_classes": [],
            "_model_module": "@jupyter-widgets/controls",
            "_model_module_version": "1.5.0",
            "_model_name": "HTMLModel",
            "_view_count": null,
            "_view_module": "@jupyter-widgets/controls",
            "_view_module_version": "1.5.0",
            "_view_name": "HTMLView",
            "description": "",
            "description_tooltip": null,
            "layout": "IPY_MODEL_9d47b495c7c1407696aff6a0b04ead92",
            "placeholder": "​",
            "style": "IPY_MODEL_decdf18a11424fd0b629ebdb14162196",
            "value": " 4/4 [01:04&lt;00:00, 14.88s/it]"
          }
        },
        "a31467f8e77440daac0059734b559bfd": {
          "model_module": "@jupyter-widgets/base",
          "model_name": "LayoutModel",
          "model_module_version": "1.2.0",
          "state": {
            "_model_module": "@jupyter-widgets/base",
            "_model_module_version": "1.2.0",
            "_model_name": "LayoutModel",
            "_view_count": null,
            "_view_module": "@jupyter-widgets/base",
            "_view_module_version": "1.2.0",
            "_view_name": "LayoutView",
            "align_content": null,
            "align_items": null,
            "align_self": null,
            "border": null,
            "bottom": null,
            "display": null,
            "flex": null,
            "flex_flow": null,
            "grid_area": null,
            "grid_auto_columns": null,
            "grid_auto_flow": null,
            "grid_auto_rows": null,
            "grid_column": null,
            "grid_gap": null,
            "grid_row": null,
            "grid_template_areas": null,
            "grid_template_columns": null,
            "grid_template_rows": null,
            "height": null,
            "justify_content": null,
            "justify_items": null,
            "left": null,
            "margin": null,
            "max_height": null,
            "max_width": null,
            "min_height": null,
            "min_width": null,
            "object_fit": null,
            "object_position": null,
            "order": null,
            "overflow": null,
            "overflow_x": null,
            "overflow_y": null,
            "padding": null,
            "right": null,
            "top": null,
            "visibility": null,
            "width": null
          }
        },
        "968660b3ed4041aa8c3f02eeaca613eb": {
          "model_module": "@jupyter-widgets/base",
          "model_name": "LayoutModel",
          "model_module_version": "1.2.0",
          "state": {
            "_model_module": "@jupyter-widgets/base",
            "_model_module_version": "1.2.0",
            "_model_name": "LayoutModel",
            "_view_count": null,
            "_view_module": "@jupyter-widgets/base",
            "_view_module_version": "1.2.0",
            "_view_name": "LayoutView",
            "align_content": null,
            "align_items": null,
            "align_self": null,
            "border": null,
            "bottom": null,
            "display": null,
            "flex": null,
            "flex_flow": null,
            "grid_area": null,
            "grid_auto_columns": null,
            "grid_auto_flow": null,
            "grid_auto_rows": null,
            "grid_column": null,
            "grid_gap": null,
            "grid_row": null,
            "grid_template_areas": null,
            "grid_template_columns": null,
            "grid_template_rows": null,
            "height": null,
            "justify_content": null,
            "justify_items": null,
            "left": null,
            "margin": null,
            "max_height": null,
            "max_width": null,
            "min_height": null,
            "min_width": null,
            "object_fit": null,
            "object_position": null,
            "order": null,
            "overflow": null,
            "overflow_x": null,
            "overflow_y": null,
            "padding": null,
            "right": null,
            "top": null,
            "visibility": null,
            "width": null
          }
        },
        "28bb6aca927a48cf81cc7c9e1fe94361": {
          "model_module": "@jupyter-widgets/controls",
          "model_name": "DescriptionStyleModel",
          "model_module_version": "1.5.0",
          "state": {
            "_model_module": "@jupyter-widgets/controls",
            "_model_module_version": "1.5.0",
            "_model_name": "DescriptionStyleModel",
            "_view_count": null,
            "_view_module": "@jupyter-widgets/base",
            "_view_module_version": "1.2.0",
            "_view_name": "StyleView",
            "description_width": ""
          }
        },
        "dd1aadd4ba5243e8be3ab44589aeed30": {
          "model_module": "@jupyter-widgets/base",
          "model_name": "LayoutModel",
          "model_module_version": "1.2.0",
          "state": {
            "_model_module": "@jupyter-widgets/base",
            "_model_module_version": "1.2.0",
            "_model_name": "LayoutModel",
            "_view_count": null,
            "_view_module": "@jupyter-widgets/base",
            "_view_module_version": "1.2.0",
            "_view_name": "LayoutView",
            "align_content": null,
            "align_items": null,
            "align_self": null,
            "border": null,
            "bottom": null,
            "display": null,
            "flex": null,
            "flex_flow": null,
            "grid_area": null,
            "grid_auto_columns": null,
            "grid_auto_flow": null,
            "grid_auto_rows": null,
            "grid_column": null,
            "grid_gap": null,
            "grid_row": null,
            "grid_template_areas": null,
            "grid_template_columns": null,
            "grid_template_rows": null,
            "height": null,
            "justify_content": null,
            "justify_items": null,
            "left": null,
            "margin": null,
            "max_height": null,
            "max_width": null,
            "min_height": null,
            "min_width": null,
            "object_fit": null,
            "object_position": null,
            "order": null,
            "overflow": null,
            "overflow_x": null,
            "overflow_y": null,
            "padding": null,
            "right": null,
            "top": null,
            "visibility": null,
            "width": null
          }
        },
        "ad7ce32dd4284d5d8adef47e41f710d7": {
          "model_module": "@jupyter-widgets/controls",
          "model_name": "ProgressStyleModel",
          "model_module_version": "1.5.0",
          "state": {
            "_model_module": "@jupyter-widgets/controls",
            "_model_module_version": "1.5.0",
            "_model_name": "ProgressStyleModel",
            "_view_count": null,
            "_view_module": "@jupyter-widgets/base",
            "_view_module_version": "1.2.0",
            "_view_name": "StyleView",
            "bar_color": null,
            "description_width": ""
          }
        },
        "9d47b495c7c1407696aff6a0b04ead92": {
          "model_module": "@jupyter-widgets/base",
          "model_name": "LayoutModel",
          "model_module_version": "1.2.0",
          "state": {
            "_model_module": "@jupyter-widgets/base",
            "_model_module_version": "1.2.0",
            "_model_name": "LayoutModel",
            "_view_count": null,
            "_view_module": "@jupyter-widgets/base",
            "_view_module_version": "1.2.0",
            "_view_name": "LayoutView",
            "align_content": null,
            "align_items": null,
            "align_self": null,
            "border": null,
            "bottom": null,
            "display": null,
            "flex": null,
            "flex_flow": null,
            "grid_area": null,
            "grid_auto_columns": null,
            "grid_auto_flow": null,
            "grid_auto_rows": null,
            "grid_column": null,
            "grid_gap": null,
            "grid_row": null,
            "grid_template_areas": null,
            "grid_template_columns": null,
            "grid_template_rows": null,
            "height": null,
            "justify_content": null,
            "justify_items": null,
            "left": null,
            "margin": null,
            "max_height": null,
            "max_width": null,
            "min_height": null,
            "min_width": null,
            "object_fit": null,
            "object_position": null,
            "order": null,
            "overflow": null,
            "overflow_x": null,
            "overflow_y": null,
            "padding": null,
            "right": null,
            "top": null,
            "visibility": null,
            "width": null
          }
        },
        "decdf18a11424fd0b629ebdb14162196": {
          "model_module": "@jupyter-widgets/controls",
          "model_name": "DescriptionStyleModel",
          "model_module_version": "1.5.0",
          "state": {
            "_model_module": "@jupyter-widgets/controls",
            "_model_module_version": "1.5.0",
            "_model_name": "DescriptionStyleModel",
            "_view_count": null,
            "_view_module": "@jupyter-widgets/base",
            "_view_module_version": "1.2.0",
            "_view_name": "StyleView",
            "description_width": ""
          }
        },
        "9564da5b6f8c4397ad0cebdb65e87986": {
          "model_module": "@jupyter-widgets/controls",
          "model_name": "HBoxModel",
          "model_module_version": "1.5.0",
          "state": {
            "_dom_classes": [],
            "_model_module": "@jupyter-widgets/controls",
            "_model_module_version": "1.5.0",
            "_model_name": "HBoxModel",
            "_view_count": null,
            "_view_module": "@jupyter-widgets/controls",
            "_view_module_version": "1.5.0",
            "_view_name": "HBoxView",
            "box_style": "",
            "children": [
              "IPY_MODEL_533017cfed474b30bee3727af93a9ba2",
              "IPY_MODEL_f32a03758e3f40609575f50f0c4cba69",
              "IPY_MODEL_4f29ba81aa9944e5a5fb5b41b7e08332"
            ],
            "layout": "IPY_MODEL_1975ea41a3054280aea4ad2313d74858"
          }
        },
        "533017cfed474b30bee3727af93a9ba2": {
          "model_module": "@jupyter-widgets/controls",
          "model_name": "HTMLModel",
          "model_module_version": "1.5.0",
          "state": {
            "_dom_classes": [],
            "_model_module": "@jupyter-widgets/controls",
            "_model_module_version": "1.5.0",
            "_model_name": "HTMLModel",
            "_view_count": null,
            "_view_module": "@jupyter-widgets/controls",
            "_view_module_version": "1.5.0",
            "_view_name": "HTMLView",
            "description": "",
            "description_tooltip": null,
            "layout": "IPY_MODEL_21c2d35248774be4820ac586863c3e42",
            "placeholder": "​",
            "style": "IPY_MODEL_ea68f0b95277497fb4a1a1e86d4c1a8e",
            "value": "Loading checkpoint shards: 100%"
          }
        },
        "f32a03758e3f40609575f50f0c4cba69": {
          "model_module": "@jupyter-widgets/controls",
          "model_name": "FloatProgressModel",
          "model_module_version": "1.5.0",
          "state": {
            "_dom_classes": [],
            "_model_module": "@jupyter-widgets/controls",
            "_model_module_version": "1.5.0",
            "_model_name": "FloatProgressModel",
            "_view_count": null,
            "_view_module": "@jupyter-widgets/controls",
            "_view_module_version": "1.5.0",
            "_view_name": "ProgressView",
            "bar_style": "success",
            "description": "",
            "description_tooltip": null,
            "layout": "IPY_MODEL_2e38b0bf803f4e38be380c16d56dba18",
            "max": 4,
            "min": 0,
            "orientation": "horizontal",
            "style": "IPY_MODEL_34bd916a7d814ea1b539120bad73fc8b",
            "value": 4
          }
        },
        "4f29ba81aa9944e5a5fb5b41b7e08332": {
          "model_module": "@jupyter-widgets/controls",
          "model_name": "HTMLModel",
          "model_module_version": "1.5.0",
          "state": {
            "_dom_classes": [],
            "_model_module": "@jupyter-widgets/controls",
            "_model_module_version": "1.5.0",
            "_model_name": "HTMLModel",
            "_view_count": null,
            "_view_module": "@jupyter-widgets/controls",
            "_view_module_version": "1.5.0",
            "_view_name": "HTMLView",
            "description": "",
            "description_tooltip": null,
            "layout": "IPY_MODEL_5758084e838d40d1a05928b290eaecda",
            "placeholder": "​",
            "style": "IPY_MODEL_c776339829bb4d6ba53858ee3a20ab61",
            "value": " 4/4 [01:02&lt;00:00, 14.42s/it]"
          }
        },
        "1975ea41a3054280aea4ad2313d74858": {
          "model_module": "@jupyter-widgets/base",
          "model_name": "LayoutModel",
          "model_module_version": "1.2.0",
          "state": {
            "_model_module": "@jupyter-widgets/base",
            "_model_module_version": "1.2.0",
            "_model_name": "LayoutModel",
            "_view_count": null,
            "_view_module": "@jupyter-widgets/base",
            "_view_module_version": "1.2.0",
            "_view_name": "LayoutView",
            "align_content": null,
            "align_items": null,
            "align_self": null,
            "border": null,
            "bottom": null,
            "display": null,
            "flex": null,
            "flex_flow": null,
            "grid_area": null,
            "grid_auto_columns": null,
            "grid_auto_flow": null,
            "grid_auto_rows": null,
            "grid_column": null,
            "grid_gap": null,
            "grid_row": null,
            "grid_template_areas": null,
            "grid_template_columns": null,
            "grid_template_rows": null,
            "height": null,
            "justify_content": null,
            "justify_items": null,
            "left": null,
            "margin": null,
            "max_height": null,
            "max_width": null,
            "min_height": null,
            "min_width": null,
            "object_fit": null,
            "object_position": null,
            "order": null,
            "overflow": null,
            "overflow_x": null,
            "overflow_y": null,
            "padding": null,
            "right": null,
            "top": null,
            "visibility": null,
            "width": null
          }
        },
        "21c2d35248774be4820ac586863c3e42": {
          "model_module": "@jupyter-widgets/base",
          "model_name": "LayoutModel",
          "model_module_version": "1.2.0",
          "state": {
            "_model_module": "@jupyter-widgets/base",
            "_model_module_version": "1.2.0",
            "_model_name": "LayoutModel",
            "_view_count": null,
            "_view_module": "@jupyter-widgets/base",
            "_view_module_version": "1.2.0",
            "_view_name": "LayoutView",
            "align_content": null,
            "align_items": null,
            "align_self": null,
            "border": null,
            "bottom": null,
            "display": null,
            "flex": null,
            "flex_flow": null,
            "grid_area": null,
            "grid_auto_columns": null,
            "grid_auto_flow": null,
            "grid_auto_rows": null,
            "grid_column": null,
            "grid_gap": null,
            "grid_row": null,
            "grid_template_areas": null,
            "grid_template_columns": null,
            "grid_template_rows": null,
            "height": null,
            "justify_content": null,
            "justify_items": null,
            "left": null,
            "margin": null,
            "max_height": null,
            "max_width": null,
            "min_height": null,
            "min_width": null,
            "object_fit": null,
            "object_position": null,
            "order": null,
            "overflow": null,
            "overflow_x": null,
            "overflow_y": null,
            "padding": null,
            "right": null,
            "top": null,
            "visibility": null,
            "width": null
          }
        },
        "ea68f0b95277497fb4a1a1e86d4c1a8e": {
          "model_module": "@jupyter-widgets/controls",
          "model_name": "DescriptionStyleModel",
          "model_module_version": "1.5.0",
          "state": {
            "_model_module": "@jupyter-widgets/controls",
            "_model_module_version": "1.5.0",
            "_model_name": "DescriptionStyleModel",
            "_view_count": null,
            "_view_module": "@jupyter-widgets/base",
            "_view_module_version": "1.2.0",
            "_view_name": "StyleView",
            "description_width": ""
          }
        },
        "2e38b0bf803f4e38be380c16d56dba18": {
          "model_module": "@jupyter-widgets/base",
          "model_name": "LayoutModel",
          "model_module_version": "1.2.0",
          "state": {
            "_model_module": "@jupyter-widgets/base",
            "_model_module_version": "1.2.0",
            "_model_name": "LayoutModel",
            "_view_count": null,
            "_view_module": "@jupyter-widgets/base",
            "_view_module_version": "1.2.0",
            "_view_name": "LayoutView",
            "align_content": null,
            "align_items": null,
            "align_self": null,
            "border": null,
            "bottom": null,
            "display": null,
            "flex": null,
            "flex_flow": null,
            "grid_area": null,
            "grid_auto_columns": null,
            "grid_auto_flow": null,
            "grid_auto_rows": null,
            "grid_column": null,
            "grid_gap": null,
            "grid_row": null,
            "grid_template_areas": null,
            "grid_template_columns": null,
            "grid_template_rows": null,
            "height": null,
            "justify_content": null,
            "justify_items": null,
            "left": null,
            "margin": null,
            "max_height": null,
            "max_width": null,
            "min_height": null,
            "min_width": null,
            "object_fit": null,
            "object_position": null,
            "order": null,
            "overflow": null,
            "overflow_x": null,
            "overflow_y": null,
            "padding": null,
            "right": null,
            "top": null,
            "visibility": null,
            "width": null
          }
        },
        "34bd916a7d814ea1b539120bad73fc8b": {
          "model_module": "@jupyter-widgets/controls",
          "model_name": "ProgressStyleModel",
          "model_module_version": "1.5.0",
          "state": {
            "_model_module": "@jupyter-widgets/controls",
            "_model_module_version": "1.5.0",
            "_model_name": "ProgressStyleModel",
            "_view_count": null,
            "_view_module": "@jupyter-widgets/base",
            "_view_module_version": "1.2.0",
            "_view_name": "StyleView",
            "bar_color": null,
            "description_width": ""
          }
        },
        "5758084e838d40d1a05928b290eaecda": {
          "model_module": "@jupyter-widgets/base",
          "model_name": "LayoutModel",
          "model_module_version": "1.2.0",
          "state": {
            "_model_module": "@jupyter-widgets/base",
            "_model_module_version": "1.2.0",
            "_model_name": "LayoutModel",
            "_view_count": null,
            "_view_module": "@jupyter-widgets/base",
            "_view_module_version": "1.2.0",
            "_view_name": "LayoutView",
            "align_content": null,
            "align_items": null,
            "align_self": null,
            "border": null,
            "bottom": null,
            "display": null,
            "flex": null,
            "flex_flow": null,
            "grid_area": null,
            "grid_auto_columns": null,
            "grid_auto_flow": null,
            "grid_auto_rows": null,
            "grid_column": null,
            "grid_gap": null,
            "grid_row": null,
            "grid_template_areas": null,
            "grid_template_columns": null,
            "grid_template_rows": null,
            "height": null,
            "justify_content": null,
            "justify_items": null,
            "left": null,
            "margin": null,
            "max_height": null,
            "max_width": null,
            "min_height": null,
            "min_width": null,
            "object_fit": null,
            "object_position": null,
            "order": null,
            "overflow": null,
            "overflow_x": null,
            "overflow_y": null,
            "padding": null,
            "right": null,
            "top": null,
            "visibility": null,
            "width": null
          }
        },
        "c776339829bb4d6ba53858ee3a20ab61": {
          "model_module": "@jupyter-widgets/controls",
          "model_name": "DescriptionStyleModel",
          "model_module_version": "1.5.0",
          "state": {
            "_model_module": "@jupyter-widgets/controls",
            "_model_module_version": "1.5.0",
            "_model_name": "DescriptionStyleModel",
            "_view_count": null,
            "_view_module": "@jupyter-widgets/base",
            "_view_module_version": "1.2.0",
            "_view_name": "StyleView",
            "description_width": ""
          }
        },
        "259b4584101e443280e90a9aea8f9254": {
          "model_module": "@jupyter-widgets/controls",
          "model_name": "HBoxModel",
          "model_module_version": "1.5.0",
          "state": {
            "_dom_classes": [],
            "_model_module": "@jupyter-widgets/controls",
            "_model_module_version": "1.5.0",
            "_model_name": "HBoxModel",
            "_view_count": null,
            "_view_module": "@jupyter-widgets/controls",
            "_view_module_version": "1.5.0",
            "_view_name": "HBoxView",
            "box_style": "",
            "children": [
              "IPY_MODEL_bddc6cf5d04f4d1ebccb5c98ee018a79",
              "IPY_MODEL_0643029c701e4489ab666a06278f1fab",
              "IPY_MODEL_0024a8236b684159bde23c08ab50b3c0"
            ],
            "layout": "IPY_MODEL_b1e3a132465d4e5fb276956e7c33ef11"
          }
        },
        "bddc6cf5d04f4d1ebccb5c98ee018a79": {
          "model_module": "@jupyter-widgets/controls",
          "model_name": "HTMLModel",
          "model_module_version": "1.5.0",
          "state": {
            "_dom_classes": [],
            "_model_module": "@jupyter-widgets/controls",
            "_model_module_version": "1.5.0",
            "_model_name": "HTMLModel",
            "_view_count": null,
            "_view_module": "@jupyter-widgets/controls",
            "_view_module_version": "1.5.0",
            "_view_name": "HTMLView",
            "description": "",
            "description_tooltip": null,
            "layout": "IPY_MODEL_0b56f3b93904492694932b2096dad7be",
            "placeholder": "​",
            "style": "IPY_MODEL_3af4577e7fcc4ce184df0b4d6b06d589",
            "value": "README.md: 100%"
          }
        },
        "0643029c701e4489ab666a06278f1fab": {
          "model_module": "@jupyter-widgets/controls",
          "model_name": "FloatProgressModel",
          "model_module_version": "1.5.0",
          "state": {
            "_dom_classes": [],
            "_model_module": "@jupyter-widgets/controls",
            "_model_module_version": "1.5.0",
            "_model_name": "FloatProgressModel",
            "_view_count": null,
            "_view_module": "@jupyter-widgets/controls",
            "_view_module_version": "1.5.0",
            "_view_name": "ProgressView",
            "bar_style": "",
            "description": "",
            "description_tooltip": null,
            "layout": "IPY_MODEL_2f1f542775614f4695fd54ad715ba9b6",
            "max": 1120,
            "min": 0,
            "orientation": "horizontal",
            "style": "IPY_MODEL_9ef2afa479d74ede8449fe1a85a3b302",
            "value": 1120
          }
        },
        "0024a8236b684159bde23c08ab50b3c0": {
          "model_module": "@jupyter-widgets/controls",
          "model_name": "HTMLModel",
          "model_module_version": "1.5.0",
          "state": {
            "_dom_classes": [],
            "_model_module": "@jupyter-widgets/controls",
            "_model_module_version": "1.5.0",
            "_model_name": "HTMLModel",
            "_view_count": null,
            "_view_module": "@jupyter-widgets/controls",
            "_view_module_version": "1.5.0",
            "_view_name": "HTMLView",
            "description": "",
            "description_tooltip": null,
            "layout": "IPY_MODEL_0aa474998322444ab31af6561deb8cfd",
            "placeholder": "​",
            "style": "IPY_MODEL_d74e29d680344f65bbab955446b86911",
            "value": " 1.12k/1.12k [00:00&lt;00:00, 117kB/s]"
          }
        },
        "b1e3a132465d4e5fb276956e7c33ef11": {
          "model_module": "@jupyter-widgets/base",
          "model_name": "LayoutModel",
          "model_module_version": "1.2.0",
          "state": {
            "_model_module": "@jupyter-widgets/base",
            "_model_module_version": "1.2.0",
            "_model_name": "LayoutModel",
            "_view_count": null,
            "_view_module": "@jupyter-widgets/base",
            "_view_module_version": "1.2.0",
            "_view_name": "LayoutView",
            "align_content": null,
            "align_items": null,
            "align_self": null,
            "border": null,
            "bottom": null,
            "display": null,
            "flex": null,
            "flex_flow": null,
            "grid_area": null,
            "grid_auto_columns": null,
            "grid_auto_flow": null,
            "grid_auto_rows": null,
            "grid_column": null,
            "grid_gap": null,
            "grid_row": null,
            "grid_template_areas": null,
            "grid_template_columns": null,
            "grid_template_rows": null,
            "height": null,
            "justify_content": null,
            "justify_items": null,
            "left": null,
            "margin": null,
            "max_height": null,
            "max_width": null,
            "min_height": null,
            "min_width": null,
            "object_fit": null,
            "object_position": null,
            "order": null,
            "overflow": null,
            "overflow_x": null,
            "overflow_y": null,
            "padding": null,
            "right": null,
            "top": null,
            "visibility": null,
            "width": null
          }
        },
        "0b56f3b93904492694932b2096dad7be": {
          "model_module": "@jupyter-widgets/base",
          "model_name": "LayoutModel",
          "model_module_version": "1.2.0",
          "state": {
            "_model_module": "@jupyter-widgets/base",
            "_model_module_version": "1.2.0",
            "_model_name": "LayoutModel",
            "_view_count": null,
            "_view_module": "@jupyter-widgets/base",
            "_view_module_version": "1.2.0",
            "_view_name": "LayoutView",
            "align_content": null,
            "align_items": null,
            "align_self": null,
            "border": null,
            "bottom": null,
            "display": null,
            "flex": null,
            "flex_flow": null,
            "grid_area": null,
            "grid_auto_columns": null,
            "grid_auto_flow": null,
            "grid_auto_rows": null,
            "grid_column": null,
            "grid_gap": null,
            "grid_row": null,
            "grid_template_areas": null,
            "grid_template_columns": null,
            "grid_template_rows": null,
            "height": null,
            "justify_content": null,
            "justify_items": null,
            "left": null,
            "margin": null,
            "max_height": null,
            "max_width": null,
            "min_height": null,
            "min_width": null,
            "object_fit": null,
            "object_position": null,
            "order": null,
            "overflow": null,
            "overflow_x": null,
            "overflow_y": null,
            "padding": null,
            "right": null,
            "top": null,
            "visibility": null,
            "width": null
          }
        },
        "3af4577e7fcc4ce184df0b4d6b06d589": {
          "model_module": "@jupyter-widgets/controls",
          "model_name": "DescriptionStyleModel",
          "model_module_version": "1.5.0",
          "state": {
            "_model_module": "@jupyter-widgets/controls",
            "_model_module_version": "1.5.0",
            "_model_name": "DescriptionStyleModel",
            "_view_count": null,
            "_view_module": "@jupyter-widgets/base",
            "_view_module_version": "1.2.0",
            "_view_name": "StyleView",
            "description_width": ""
          }
        },
        "2f1f542775614f4695fd54ad715ba9b6": {
          "model_module": "@jupyter-widgets/base",
          "model_name": "LayoutModel",
          "model_module_version": "1.2.0",
          "state": {
            "_model_module": "@jupyter-widgets/base",
            "_model_module_version": "1.2.0",
            "_model_name": "LayoutModel",
            "_view_count": null,
            "_view_module": "@jupyter-widgets/base",
            "_view_module_version": "1.2.0",
            "_view_name": "LayoutView",
            "align_content": null,
            "align_items": null,
            "align_self": null,
            "border": null,
            "bottom": null,
            "display": null,
            "flex": null,
            "flex_flow": null,
            "grid_area": null,
            "grid_auto_columns": null,
            "grid_auto_flow": null,
            "grid_auto_rows": null,
            "grid_column": null,
            "grid_gap": null,
            "grid_row": null,
            "grid_template_areas": null,
            "grid_template_columns": null,
            "grid_template_rows": null,
            "height": null,
            "justify_content": null,
            "justify_items": null,
            "left": null,
            "margin": null,
            "max_height": null,
            "max_width": null,
            "min_height": null,
            "min_width": null,
            "object_fit": null,
            "object_position": null,
            "order": null,
            "overflow": null,
            "overflow_x": null,
            "overflow_y": null,
            "padding": null,
            "right": null,
            "top": null,
            "visibility": null,
            "width": null
          }
        },
        "9ef2afa479d74ede8449fe1a85a3b302": {
          "model_module": "@jupyter-widgets/controls",
          "model_name": "ProgressStyleModel",
          "model_module_version": "1.5.0",
          "state": {
            "_model_module": "@jupyter-widgets/controls",
            "_model_module_version": "1.5.0",
            "_model_name": "ProgressStyleModel",
            "_view_count": null,
            "_view_module": "@jupyter-widgets/base",
            "_view_module_version": "1.2.0",
            "_view_name": "StyleView",
            "bar_color": null,
            "description_width": ""
          }
        },
        "0aa474998322444ab31af6561deb8cfd": {
          "model_module": "@jupyter-widgets/base",
          "model_name": "LayoutModel",
          "model_module_version": "1.2.0",
          "state": {
            "_model_module": "@jupyter-widgets/base",
            "_model_module_version": "1.2.0",
            "_model_name": "LayoutModel",
            "_view_count": null,
            "_view_module": "@jupyter-widgets/base",
            "_view_module_version": "1.2.0",
            "_view_name": "LayoutView",
            "align_content": null,
            "align_items": null,
            "align_self": null,
            "border": null,
            "bottom": null,
            "display": null,
            "flex": null,
            "flex_flow": null,
            "grid_area": null,
            "grid_auto_columns": null,
            "grid_auto_flow": null,
            "grid_auto_rows": null,
            "grid_column": null,
            "grid_gap": null,
            "grid_row": null,
            "grid_template_areas": null,
            "grid_template_columns": null,
            "grid_template_rows": null,
            "height": null,
            "justify_content": null,
            "justify_items": null,
            "left": null,
            "margin": null,
            "max_height": null,
            "max_width": null,
            "min_height": null,
            "min_width": null,
            "object_fit": null,
            "object_position": null,
            "order": null,
            "overflow": null,
            "overflow_x": null,
            "overflow_y": null,
            "padding": null,
            "right": null,
            "top": null,
            "visibility": null,
            "width": null
          }
        },
        "d74e29d680344f65bbab955446b86911": {
          "model_module": "@jupyter-widgets/controls",
          "model_name": "DescriptionStyleModel",
          "model_module_version": "1.5.0",
          "state": {
            "_model_module": "@jupyter-widgets/controls",
            "_model_module_version": "1.5.0",
            "_model_name": "DescriptionStyleModel",
            "_view_count": null,
            "_view_module": "@jupyter-widgets/base",
            "_view_module_version": "1.2.0",
            "_view_name": "StyleView",
            "description_width": ""
          }
        }
      }
    }
  },
  "nbformat_minor": 0,
  "nbformat": 4,
  "cells": [
    {
      "cell_type": "code",
      "source": [
        "from google.colab import drive\n",
        "drive.mount('/content/drive')"
      ],
      "metadata": {
        "id": "mXDbvlB9kzJH",
        "colab": {
          "base_uri": "https://localhost:8080/"
        },
        "outputId": "08f49d1d-00b4-4317-e638-cbf58dbefe37"
      },
      "execution_count": 1,
      "outputs": [
        {
          "output_type": "stream",
          "name": "stdout",
          "text": [
            "Drive already mounted at /content/drive; to attempt to forcibly remount, call drive.mount(\"/content/drive\", force_remount=True).\n"
          ]
        }
      ]
    },
    {
      "cell_type": "code",
      "source": [
        "%%capture\n",
        "# !pip install unsloth_zoo unsloth vllm\n",
        "!pip install -U bitsandbytes datasets"
      ],
      "metadata": {
        "trusted": true,
        "execution": {
          "iopub.status.busy": "2025-04-22T08:49:16.936433Z",
          "iopub.execute_input": "2025-04-22T08:49:16.936751Z",
          "iopub.status.idle": "2025-04-22T08:49:36.526750Z",
          "shell.execute_reply.started": "2025-04-22T08:49:16.936718Z",
          "shell.execute_reply": "2025-04-22T08:49:36.525750Z"
        },
        "id": "jMi6Jo_W_Zs3"
      },
      "outputs": [],
      "execution_count": 2
    },
    {
      "cell_type": "code",
      "source": [
        "# from unsloth import FastModel\n",
        "# from unsloth.chat_templates import get_chat_template\n",
        "# model, tokenizer = FastModel.from_pretrained(\n",
        "#     model_name = \"unsloth/gemma-3-12b-it-unsloth-bnb-4bit\",\n",
        "#     max_seq_length = 2048, # Choose any for long context!\n",
        "#     load_in_4bit = True,  # 4 bit quantization to reduce memory\n",
        "#     load_in_8bit = False, # [NEW!] A bit more accurate, uses 2x memory\n",
        "#     full_finetuning = False, # [NEW!] We have full finetuning now!\n",
        "#     # token = \"hf_...\", # use one if using gated models\n",
        "# )"
      ],
      "metadata": {
        "trusted": true,
        "execution": {
          "iopub.status.busy": "2025-04-22T08:49:36.528366Z",
          "iopub.execute_input": "2025-04-22T08:49:36.528677Z",
          "iopub.status.idle": "2025-04-22T08:49:48.868488Z",
          "shell.execute_reply.started": "2025-04-22T08:49:36.528651Z",
          "shell.execute_reply": "2025-04-22T08:49:48.867787Z"
        },
        "id": "FUtoZ3EG_ZtB"
      },
      "outputs": [],
      "execution_count": 3
    },
    {
      "cell_type": "code",
      "source": [
        "#@title for non unsloth models\n",
        "from transformers import AutoModelForCausalLM, AutoTokenizer\n",
        "from transformers import BitsAndBytesConfig\n",
        "from peft import PeftModel\n",
        "import torch\n",
        "\n",
        "# base\n",
        "model_id = \"aisingapore/Llama-SEA-LION-v3.5-8B-R\"\n",
        "\n",
        "bnb_config = BitsAndBytesConfig(\n",
        "    load_in_4bit=True,\n",
        "    bnb_4bit_use_double_quant=True,\n",
        "    bnb_4bit_quant_type=\"nf4\",\n",
        "    bnb_4bit_compute_dtype=torch.bfloat16\n",
        ")\n",
        "\n",
        "model = AutoModelForCausalLM.from_pretrained(model_id, quantization_config=bnb_config)\n",
        "\n",
        "# fine-tuned\n",
        "model_base = AutoModelForCausalLM.from_pretrained(model_id, quantization_config=bnb_config)\n",
        "peft_model_id = \"ShoAnn/Llama-SEA-LION-v3.5-8B-R-legalqa\"\n",
        "model = PeftModel.from_pretrained(model_base, peft_model_id)\n",
        "model.merge_and_unload()\n",
        "\n",
        "model.eval()\n",
        "tokenizer = AutoTokenizer.from_pretrained(model_id)"
      ],
      "metadata": {
        "id": "fI7KK8dSBNfC",
        "trusted": true,
        "execution": {
          "iopub.status.busy": "2025-04-22T08:49:36.528366Z",
          "iopub.execute_input": "2025-04-22T08:49:36.528677Z",
          "iopub.status.idle": "2025-04-22T08:49:48.868488Z",
          "shell.execute_reply.started": "2025-04-22T08:49:36.528651Z",
          "shell.execute_reply": "2025-04-22T08:49:48.867787Z"
        },
        "colab": {
          "base_uri": "https://localhost:8080/",
          "height": 137,
          "referenced_widgets": [
            "27b0e331448b4cb7aa0c139efbf7c504",
            "7c75dab9fd0a473ead6d08ec1d6bd441",
            "4e5b4717314f4c3bb5ed4bb98d9304ba",
            "f86aa9375b494a60ad36a616c03d3974",
            "a31467f8e77440daac0059734b559bfd",
            "968660b3ed4041aa8c3f02eeaca613eb",
            "28bb6aca927a48cf81cc7c9e1fe94361",
            "dd1aadd4ba5243e8be3ab44589aeed30",
            "ad7ce32dd4284d5d8adef47e41f710d7",
            "9d47b495c7c1407696aff6a0b04ead92",
            "decdf18a11424fd0b629ebdb14162196",
            "9564da5b6f8c4397ad0cebdb65e87986",
            "533017cfed474b30bee3727af93a9ba2",
            "f32a03758e3f40609575f50f0c4cba69",
            "4f29ba81aa9944e5a5fb5b41b7e08332",
            "1975ea41a3054280aea4ad2313d74858",
            "21c2d35248774be4820ac586863c3e42",
            "ea68f0b95277497fb4a1a1e86d4c1a8e",
            "2e38b0bf803f4e38be380c16d56dba18",
            "34bd916a7d814ea1b539120bad73fc8b",
            "5758084e838d40d1a05928b290eaecda",
            "c776339829bb4d6ba53858ee3a20ab61"
          ]
        },
        "outputId": "b1494b0c-8342-4a2a-a5a2-386ee97dde4a"
      },
      "outputs": [
        {
          "data": {
            "application/vnd.jupyter.widget-view+json": {
              "model_id": "27b0e331448b4cb7aa0c139efbf7c504",
              "version_major": 2,
              "version_minor": 0
            },
            "text/plain": [
              "Loading checkpoint shards:   0%|          | 0/4 [00:00<?, ?it/s]"
            ]
          },
          "metadata": {},
          "output_type": "display_data"
        },
        {
          "output_type": "display_data",
          "data": {
            "text/plain": [
              "Loading checkpoint shards:   0%|          | 0/4 [00:00<?, ?it/s]"
            ],
            "application/vnd.jupyter.widget-view+json": {
              "version_major": 2,
              "version_minor": 0,
              "model_id": "9564da5b6f8c4397ad0cebdb65e87986"
            }
          },
          "metadata": {}
        },
        {
          "output_type": "stream",
          "name": "stderr",
          "text": [
            "/usr/local/lib/python3.11/dist-packages/peft/tuners/lora/bnb.py:351: UserWarning: Merge lora module to 4-bit linear may get different generations due to rounding errors.\n",
            "  warnings.warn(\n"
          ]
        }
      ],
      "execution_count": 5
    },
    {
      "cell_type": "markdown",
      "source": [
        "# **Load data**"
      ],
      "metadata": {
        "id": "4RPLiQMA3jno"
      }
    },
    {
      "cell_type": "code",
      "source": [
        "#@title Load ground truth"
      ],
      "metadata": {
        "id": "OOtMfZSNR2RQ",
        "trusted": true,
        "execution": {
          "iopub.status.busy": "2025-04-22T08:49:48.869830Z",
          "iopub.execute_input": "2025-04-22T08:49:48.870153Z",
          "iopub.status.idle": "2025-04-22T08:49:48.873993Z",
          "shell.execute_reply.started": "2025-04-22T08:49:48.870117Z",
          "shell.execute_reply": "2025-04-22T08:49:48.872854Z"
        }
      },
      "outputs": [],
      "execution_count": 6
    },
    {
      "cell_type": "code",
      "execution_count": 7,
      "metadata": {
        "id": "LjY75GoYUCB8"
      },
      "outputs": [],
      "source": [
        "# from unsloth.chat_templates import get_chat_template\n",
        "# tokenizer = get_chat_template(\n",
        "#     tokenizer,\n",
        "#     chat_template = \"gemma-3\",\n",
        "#     # enable_thinking = False\n",
        "# )"
      ]
    },
    {
      "cell_type": "code",
      "source": [
        "from datasets import DatasetDict, load_dataset\n",
        "hub_dataset = load_dataset(\"ShoAnn/legalqa_klinik_hukumonline\")\n",
        "test = hub_dataset[\"test\"]\n",
        "\n",
        "# Gather the splits into a DatasetDict\n",
        "dataset = DatasetDict({\n",
        "    \"test\": test,\n",
        "})\n",
        "\n",
        "instruction_prompt = \"You are an AI Legal Assistant. Your task is to carefully analyze the provided **Legal Basis** below and answer given **Question** based *solely* and *exclusively* on the information contained within that context in Indonesian Language.\"\n",
        "def format_to_conv(examples):\n",
        "    questions = examples[\"question\"]\n",
        "    inputs       = examples[\"context\"]\n",
        "    outputs      = examples[\"answer\"]\n",
        "    conversation = []\n",
        "    for question, input, output in zip(questions, inputs, outputs):\n",
        "        conversation.append([ # This line has been changed\n",
        "            {'content': f'{instruction_prompt} \\n **Question** \\n{question} \\n**Legal Basis** \\n{input}', 'role': 'user'},\n",
        "        ])\n",
        "    return { \"conversations\" : conversation, }\n",
        "\n",
        "def formatting_prompts_func(examples):\n",
        "   convos = examples[\"conversations\"]\n",
        "   texts = [tokenizer.apply_chat_template(convo, tokenize = False, add_generation_prompt = True, thinking_mode=\"off\") for convo in convos]\n",
        "   return { \"text\" : texts, }\n",
        "\n",
        "conv_test = dataset['test'].map(format_to_conv, batched = True,)\n",
        "test = conv_test.map(formatting_prompts_func, batched = True)"
      ],
      "metadata": {
        "id": "GBnRb2shyghg",
        "colab": {
          "base_uri": "https://localhost:8080/",
          "height": 49,
          "referenced_widgets": [
            "259b4584101e443280e90a9aea8f9254",
            "bddc6cf5d04f4d1ebccb5c98ee018a79",
            "0643029c701e4489ab666a06278f1fab",
            "0024a8236b684159bde23c08ab50b3c0",
            "b1e3a132465d4e5fb276956e7c33ef11",
            "0b56f3b93904492694932b2096dad7be",
            "3af4577e7fcc4ce184df0b4d6b06d589",
            "2f1f542775614f4695fd54ad715ba9b6",
            "9ef2afa479d74ede8449fe1a85a3b302",
            "0aa474998322444ab31af6561deb8cfd",
            "d74e29d680344f65bbab955446b86911"
          ]
        },
        "outputId": "d9104d4e-b1f5-4c37-82ec-3329378ca808"
      },
      "execution_count": null,
      "outputs": [
        {
          "output_type": "display_data",
          "data": {
            "text/plain": [
              "README.md:   0%|          | 0.00/1.12k [00:00<?, ?B/s]"
            ],
            "application/vnd.jupyter.widget-view+json": {
              "version_major": 2,
              "version_minor": 0,
              "model_id": "259b4584101e443280e90a9aea8f9254"
            }
          },
          "metadata": {}
        }
      ]
    },
    {
      "cell_type": "code",
      "source": [
        "test['text'][0]"
      ],
      "metadata": {
        "id": "ANEjELAwk0Uf"
      },
      "execution_count": null,
      "outputs": []
    },
    {
      "cell_type": "code",
      "source": [
        "#@title Load inference result from my model"
      ],
      "metadata": {
        "id": "lFlmd86jSVxZ",
        "trusted": true,
        "execution": {
          "iopub.status.busy": "2025-04-22T08:49:49.474749Z",
          "iopub.execute_input": "2025-04-22T08:49:49.474948Z",
          "iopub.status.idle": "2025-04-22T08:49:49.478350Z",
          "shell.execute_reply.started": "2025-04-22T08:49:49.474930Z",
          "shell.execute_reply": "2025-04-22T08:49:49.477484Z"
        }
      },
      "outputs": [],
      "execution_count": null
    },
    {
      "cell_type": "code",
      "source": [
        "import os\n",
        "import json\n",
        "from tqdm import tqdm\n",
        "import pandas as pd\n",
        "import torch\n",
        "\n",
        "def save_checkpoint(inference_results, checkpoint_file):\n",
        "    \"\"\"Save the current state of inference\"\"\"\n",
        "    inference_results.to_csv(checkpoint_file, index=False)\n",
        "\n",
        "def load_checkpoint(checkpoint_file):\n",
        "    \"\"\"Load the previous state of inference\"\"\"\n",
        "    if os.path.exists(checkpoint_file):\n",
        "        return pd.read_csv(checkpoint_file)\n",
        "    return pd.DataFrame()\n",
        "\n",
        "def run_inference_with_checkpointing(dataset, model, tokenizer, checkpoint_file='checkpoint.csv',\n",
        "                                   save_frequency=100):\n",
        "    \"\"\"\n",
        "    Run inference with periodic checkpointing and text streaming\n",
        "\n",
        "    Args:\n",
        "        dataset: The input dataset\n",
        "        model: The model to use for inference\n",
        "        tokenizer: The tokenizer to use\n",
        "        checkpoint_file: Path to save/load checkpoint\n",
        "        save_frequency: How often to save checkpoints (in number of rows)\n",
        "    \"\"\"\n",
        "    # Load checkpoint if it exists\n",
        "    inference_results = load_checkpoint(checkpoint_file)\n",
        "\n",
        "    # Find where to resume from\n",
        "    processed_texts = set(inference_results['text'].tolist() if not inference_results.empty else [])\n",
        "    remaining_rows = [row for row in dataset if row['text'] not in processed_texts]\n",
        "\n",
        "    print(f\"Resuming from {len(processed_texts)} previously processed items\")\n",
        "\n",
        "    # Create a text streamer for real-time output\n",
        "    # streamer = TextStreamer(tokenizer, skip_special_tokens=True)\n",
        "\n",
        "    try:\n",
        "        for i, row in enumerate(tqdm(remaining_rows)):\n",
        "\n",
        "            # llama 3.1 & cendol inference setup\n",
        "            # inputs = tokenizer([row['text']], return_tensors=\"pt\").to(\"cuda\")\n",
        "            # outputs = model.generate(**inputs, use_cache=True, max_new_tokens=2048)\n",
        "            # outputs_text = tokenizer.batch_decode([outputs[0]], skip_special_tokens=True)\n",
        "            # end llama 3.1 & cendol inference setup\n",
        "\n",
        "            # gemma3 setup\n",
        "            outputs = model.generate(\n",
        "                **tokenizer([row['text']], return_tensors = \"pt\").to(\"cuda\"),\n",
        "                max_new_tokens = 1024, # Increase for longer outputs!\n",
        "                # Recommended Gemma-3 settings!\n",
        "                # temperature = 1.0, top_p = 0.95, top_k = 64,\n",
        "                #qwen3 temp\n",
        "                temperature = 0.7, top_p = 0.8, top_k = 20\n",
        "            )\n",
        "            outputs_text = tokenizer.batch_decode(outputs)\n",
        "            row['model_answer'] = outputs_text\n",
        "\n",
        "            temp_df = pd.DataFrame([row])\n",
        "            inference_results = pd.concat([inference_results, temp_df], ignore_index=True)\n",
        "\n",
        "            # Save checkpoint periodically\n",
        "            if (i + 1) % save_frequency == 0:\n",
        "                save_checkpoint(inference_results, checkpoint_file)\n",
        "                print(f\"\\nCheckpoint saved at {i + 1} items\")\n",
        "\n",
        "    except KeyboardInterrupt:\n",
        "        print(\"\\nInterrupted by user. Saving checkpoint...\")\n",
        "        save_checkpoint(inference_results, checkpoint_file)\n",
        "        raise\n",
        "    except Exception as e:\n",
        "        print(f\"\\nError occurred: {str(e)}. Saving checkpoint...\")\n",
        "        save_checkpoint(inference_results, checkpoint_file)\n",
        "        raise\n",
        "\n",
        "    # Save final checkpoint\n",
        "    save_checkpoint(inference_results, checkpoint_file)\n",
        "    print(\"\\nInference completed and final results saved\")\n",
        "\n",
        "    return inference_results"
      ],
      "metadata": {
        "trusted": true,
        "execution": {
          "iopub.status.busy": "2025-04-22T08:49:49.479253Z",
          "iopub.execute_input": "2025-04-22T08:49:49.479580Z",
          "iopub.status.idle": "2025-04-22T08:49:49.491883Z",
          "shell.execute_reply.started": "2025-04-22T08:49:49.479547Z",
          "shell.execute_reply": "2025-04-22T08:49:49.491043Z"
        },
        "id": "-ss7p1c85so9"
      },
      "outputs": [],
      "execution_count": null
    },
    {
      "cell_type": "code",
      "source": [
        "model.eval()\n",
        "inference_results = run_inference_with_checkpointing(\n",
        "    dataset=test,\n",
        "    model=model,\n",
        "    tokenizer=tokenizer,\n",
        "    checkpoint_file=f'/content/drive/MyDrive/model_outputs/inference_result_{model_id.split(\"/\")[1]}-finetuned.csv',\n",
        "    save_frequency=10\n",
        ")"
      ],
      "metadata": {
        "trusted": true,
        "execution": {
          "iopub.status.busy": "2025-04-22T08:49:49.493873Z",
          "iopub.execute_input": "2025-04-22T08:49:49.494071Z"
        },
        "id": "8pC_Goz-5so_",
        "colab": {
          "base_uri": "https://localhost:8080/"
        },
        "outputId": "2cc80687-7828-43d9-dcbf-e9913c716397"
      },
      "outputs": [
        {
          "output_type": "stream",
          "name": "stdout",
          "text": [
            "Resuming from 0 previously processed items\n"
          ]
        },
        {
          "output_type": "stream",
          "name": "stderr",
          "text": [
            "  0%|          | 0/112 [00:00<?, ?it/s]Setting `pad_token_id` to `eos_token_id`:128001 for open-end generation.\n",
            "  1%|          | 1/112 [00:30<56:08, 30.35s/it]Setting `pad_token_id` to `eos_token_id`:128001 for open-end generation.\n",
            "  2%|▏         | 2/112 [01:10<1:06:01, 36.01s/it]Setting `pad_token_id` to `eos_token_id`:128001 for open-end generation.\n",
            "  3%|▎         | 3/112 [02:06<1:22:01, 45.15s/it]Setting `pad_token_id` to `eos_token_id`:128001 for open-end generation.\n",
            "  4%|▎         | 4/112 [03:07<1:32:40, 51.49s/it]Setting `pad_token_id` to `eos_token_id`:128001 for open-end generation.\n",
            "  4%|▍         | 5/112 [04:33<1:54:02, 63.94s/it]Setting `pad_token_id` to `eos_token_id`:128001 for open-end generation.\n",
            "  5%|▌         | 6/112 [05:45<1:57:27, 66.49s/it]Setting `pad_token_id` to `eos_token_id`:128001 for open-end generation.\n",
            "  6%|▋         | 7/112 [06:32<1:45:45, 60.43s/it]Setting `pad_token_id` to `eos_token_id`:128001 for open-end generation.\n",
            "  7%|▋         | 8/112 [08:19<2:10:20, 75.20s/it]Setting `pad_token_id` to `eos_token_id`:128001 for open-end generation.\n",
            "  8%|▊         | 9/112 [09:30<2:06:35, 73.74s/it]Setting `pad_token_id` to `eos_token_id`:128001 for open-end generation.\n",
            "  9%|▉         | 10/112 [10:40<2:03:19, 72.54s/it]Setting `pad_token_id` to `eos_token_id`:128001 for open-end generation.\n"
          ]
        },
        {
          "output_type": "stream",
          "name": "stdout",
          "text": [
            "\n",
            "Checkpoint saved at 10 items\n"
          ]
        },
        {
          "output_type": "stream",
          "name": "stderr",
          "text": [
            " 10%|▉         | 11/112 [11:22<1:46:35, 63.32s/it]Setting `pad_token_id` to `eos_token_id`:128001 for open-end generation.\n",
            " 11%|█         | 12/112 [13:04<2:04:52, 74.93s/it]Setting `pad_token_id` to `eos_token_id`:128001 for open-end generation.\n",
            " 12%|█▏        | 13/112 [13:40<1:44:23, 63.26s/it]Setting `pad_token_id` to `eos_token_id`:128001 for open-end generation.\n",
            " 12%|█▎        | 14/112 [14:36<1:39:59, 61.22s/it]Setting `pad_token_id` to `eos_token_id`:128001 for open-end generation.\n",
            " 13%|█▎        | 15/112 [15:04<1:22:19, 50.93s/it]Setting `pad_token_id` to `eos_token_id`:128001 for open-end generation.\n",
            " 14%|█▍        | 16/112 [16:18<1:32:42, 57.94s/it]Setting `pad_token_id` to `eos_token_id`:128001 for open-end generation.\n",
            " 15%|█▌        | 17/112 [17:29<1:37:54, 61.83s/it]Setting `pad_token_id` to `eos_token_id`:128001 for open-end generation.\n",
            " 16%|█▌        | 18/112 [18:24<1:33:58, 59.98s/it]Setting `pad_token_id` to `eos_token_id`:128001 for open-end generation.\n",
            " 17%|█▋        | 19/112 [19:27<1:34:26, 60.93s/it]Setting `pad_token_id` to `eos_token_id`:128001 for open-end generation.\n",
            " 18%|█▊        | 20/112 [21:01<1:48:14, 70.59s/it]Setting `pad_token_id` to `eos_token_id`:128001 for open-end generation.\n"
          ]
        },
        {
          "output_type": "stream",
          "name": "stdout",
          "text": [
            "\n",
            "Checkpoint saved at 20 items\n"
          ]
        },
        {
          "output_type": "stream",
          "name": "stderr",
          "text": [
            " 19%|█▉        | 21/112 [22:27<1:54:06, 75.23s/it]Setting `pad_token_id` to `eos_token_id`:128001 for open-end generation.\n",
            " 20%|█▉        | 22/112 [23:06<1:36:42, 64.47s/it]Setting `pad_token_id` to `eos_token_id`:128001 for open-end generation.\n",
            " 21%|██        | 23/112 [25:07<2:00:51, 81.48s/it]Setting `pad_token_id` to `eos_token_id`:128001 for open-end generation.\n",
            " 21%|██▏       | 24/112 [26:39<2:04:13, 84.70s/it]Setting `pad_token_id` to `eos_token_id`:128001 for open-end generation.\n",
            " 22%|██▏       | 25/112 [27:31<1:48:36, 74.90s/it]Setting `pad_token_id` to `eos_token_id`:128001 for open-end generation.\n",
            " 23%|██▎       | 26/112 [28:50<1:49:08, 76.15s/it]Setting `pad_token_id` to `eos_token_id`:128001 for open-end generation.\n",
            " 24%|██▍       | 27/112 [29:42<1:37:22, 68.73s/it]Setting `pad_token_id` to `eos_token_id`:128001 for open-end generation.\n",
            " 25%|██▌       | 28/112 [30:18<1:22:43, 59.09s/it]Setting `pad_token_id` to `eos_token_id`:128001 for open-end generation.\n",
            " 26%|██▌       | 29/112 [31:44<1:32:39, 66.98s/it]Setting `pad_token_id` to `eos_token_id`:128001 for open-end generation.\n",
            " 27%|██▋       | 30/112 [32:18<1:18:07, 57.16s/it]Setting `pad_token_id` to `eos_token_id`:128001 for open-end generation.\n"
          ]
        },
        {
          "output_type": "stream",
          "name": "stdout",
          "text": [
            "\n",
            "Checkpoint saved at 30 items\n"
          ]
        },
        {
          "output_type": "stream",
          "name": "stderr",
          "text": [
            " 28%|██▊       | 31/112 [33:48<1:30:20, 66.92s/it]Setting `pad_token_id` to `eos_token_id`:128001 for open-end generation.\n",
            " 29%|██▊       | 32/112 [34:12<1:11:57, 53.97s/it]Setting `pad_token_id` to `eos_token_id`:128001 for open-end generation.\n",
            " 29%|██▉       | 33/112 [35:04<1:10:27, 53.51s/it]Setting `pad_token_id` to `eos_token_id`:128001 for open-end generation.\n",
            " 30%|███       | 34/112 [35:38<1:01:46, 47.52s/it]Setting `pad_token_id` to `eos_token_id`:128001 for open-end generation.\n",
            " 31%|███▏      | 35/112 [37:12<1:19:08, 61.67s/it]Setting `pad_token_id` to `eos_token_id`:128001 for open-end generation.\n",
            " 32%|███▏      | 36/112 [38:30<1:24:15, 66.52s/it]Setting `pad_token_id` to `eos_token_id`:128001 for open-end generation.\n",
            " 33%|███▎      | 37/112 [39:28<1:19:48, 63.85s/it]Setting `pad_token_id` to `eos_token_id`:128001 for open-end generation.\n",
            " 34%|███▍      | 38/112 [40:14<1:12:08, 58.49s/it]Setting `pad_token_id` to `eos_token_id`:128001 for open-end generation.\n",
            " 35%|███▍      | 39/112 [41:25<1:15:54, 62.40s/it]Setting `pad_token_id` to `eos_token_id`:128001 for open-end generation.\n"
          ]
        }
      ],
      "execution_count": null
    }
  ]
}